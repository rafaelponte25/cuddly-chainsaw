{
  "nbformat": 4,
  "nbformat_minor": 0,
  "metadata": {
    "colab": {
      "name": "Blockchain.ipynb",
      "provenance": []
    },
    "kernelspec": {
      "name": "python3",
      "display_name": "Python 3"
    }
  },
  "cells": [
    {
      "cell_type": "code",
      "metadata": {
        "id": "ABQLOmzJrhDE",
        "colab": {
          "base_uri": "https://localhost:8080/",
          "height": 34
        },
        "outputId": "a7f13631-42b1-4884-b0f0-060f9fe8a3eb"
      },
      "source": [
        "# A block is stored as a tuple of\n",
        "# (parent_hash, transactions, hash_itself)\n",
        "\n",
        "# get block parent hash\n",
        "def get_parent_hash(block):\n",
        "    return block[0]\n",
        "\n",
        "# get block transaction\n",
        "def get_transactions(block):\n",
        "    return block[1]\n",
        "\n",
        "# get block's hash\n",
        "def get_hash_itself(block):\n",
        "    return block[2]\n",
        "\n",
        "# change block's transaction\n",
        "def change_transaction(block, new_transaction):\n",
        "  block = list(block)\n",
        "  block[1] = new_transaction\n",
        "  block[2] = hash((block[1], block[0]))\n",
        "  block = tuple(block)\n",
        "  return (block[0], block[1], block[2])\n",
        "\n",
        "# function to create a block in a blockchain\n",
        "def create_block(transactions, parent_hash):\n",
        "    hash_itself = hash((transactions, parent_hash))\n",
        "    return (parent_hash, transactions, hash_itself)\n",
        "\n",
        "\n",
        "# function to create the genesis block\n",
        "def create_genesis_block(transactions):\n",
        "    return create_block(transactions, 0)\n",
        "\n",
        "print(\"Set up ready!\")\n"
      ],
      "execution_count": null,
      "outputs": [
        {
          "output_type": "stream",
          "text": [
            "Set up ready!\n"
          ],
          "name": "stdout"
        }
      ]
    },
    {
      "cell_type": "code",
      "metadata": {
        "id": "rA-5Wc7DWIDA",
        "colab": {
          "base_uri": "https://localhost:8080/",
          "height": 85
        },
        "outputId": "8bd6b5fc-7513-48e0-b93c-a0e7f63c4a0c"
      },
      "source": [
        "# we create our genesis block\n",
        "genesis_block = create_genesis_block(\"X paid $100 to Y\")\n",
        "print(\"Genesis Block:\", genesis_block)\n",
        "print('\\n')\n",
        "\n",
        "# create another block\n",
        "block1 = create_block(\"Y paid $20 to Z, X paid $10 to P\", genesis_block_hash)\n",
        "\n",
        "# print the hash of block1\n",
        "print(\"     Block 1:\", block1)"
      ],
      "execution_count": null,
      "outputs": [
        {
          "output_type": "stream",
          "text": [
            "Genesis Block: (0, 'X paid $100 to Y', -6745463633960346709)\n",
            "\n",
            "\n",
            "     Block 1: (7904212328798235565, 'Y paid $20 to Z, X paid $10 to P', -5668779151723414193)\n"
          ],
          "name": "stdout"
        }
      ]
    },
    {
      "cell_type": "code",
      "metadata": {
        "id": "t0oZ8cLvWjrQ",
        "colab": {
          "base_uri": "https://localhost:8080/",
          "height": 85
        },
        "outputId": "1167d31d-6b80-4cf2-e0cb-9314bed2dc9b"
      },
      "source": [
        "genesis_block = change_transaction(genesis_block, \"Y paid $100 to X\")\n",
        "genesis_block_hash = get_hash_itself(genesis_block)\n",
        "\n",
        "print(\"Genesis Block:\", genesis_block)\n",
        "print('\\n')\n",
        "print(\"Block 1:\", block1)"
      ],
      "execution_count": null,
      "outputs": [
        {
          "output_type": "stream",
          "text": [
            "Genesis Block: (0, 'Y paid $100 to X', 7904212328798235565)\n",
            "\n",
            "\n",
            "Block 1: (-6745463633960346709, 'Y paid $20 to Z, X paid $10 to P', -4897977187694550876)\n"
          ],
          "name": "stdout"
        }
      ]
    },
    {
      "cell_type": "code",
      "metadata": {
        "id": "C1wUSjWGFciS",
        "colab": {
          "base_uri": "https://localhost:8080/",
          "height": 34
        },
        "outputId": "1a61d8cb-5921-4eac-994d-6190c8f5a0ba"
      },
      "source": [
        "d = 'How did one astronaut on the moon say he was sorry? He apollo-gized'\n",
        "hash2 = hash((d, 521693193071135402))\n",
        "print(hash2)"
      ],
      "execution_count": null,
      "outputs": [
        {
          "output_type": "stream",
          "text": [
            "-7663427911222408826\n"
          ],
          "name": "stdout"
        }
      ]
    },
    {
      "cell_type": "markdown",
      "metadata": {
        "id": "HdmXmeu1XFj-"
      },
      "source": [
        "\n",
        "\n",
        "https://hackr.io/blog/blockchain-programming-beginners-guide"
      ]
    }
  ]
}